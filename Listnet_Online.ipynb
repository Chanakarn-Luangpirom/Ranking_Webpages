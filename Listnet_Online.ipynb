{
 "cells": [
  {
   "cell_type": "code",
   "execution_count": 23,
   "id": "3e9ea992",
   "metadata": {},
   "outputs": [],
   "source": [
    "from itertools import combinations\n",
    "import torch\n",
    "import torch.nn as nn\n",
    "import torch.nn.functional as F\n",
    "import torch.optim as optim\n",
    "import numpy as np\n",
    "import pandas as pd\n",
    "import time\n",
    "\n",
    "\n",
    "df = pd.read_csv('train_cleaned_small.csv')\n",
    "df_val = pd.read_csv('val_cleaned_small.csv')"
   ]
  },
  {
   "cell_type": "code",
   "execution_count": 24,
   "id": "d50bb7a2",
   "metadata": {},
   "outputs": [],
   "source": [
    "df = pd.read_csv('df_train_new.csv')"
   ]
  },
  {
   "cell_type": "code",
   "execution_count": 25,
   "id": "2042d554",
   "metadata": {},
   "outputs": [
    {
     "data": {
      "text/plain": [
       "<torch._C.Generator at 0x160b50f1d90>"
      ]
     },
     "execution_count": 25,
     "metadata": {},
     "output_type": "execute_result"
    }
   ],
   "source": [
    "torch.manual_seed(0)"
   ]
  },
  {
   "cell_type": "code",
   "execution_count": 26,
   "id": "14107655",
   "metadata": {},
   "outputs": [],
   "source": [
    "def clean_data(x):\n",
    "    query_ids = sorted(list(set(x['query_id'])))\n",
    "    ys_train = np.array(x[x['query_id']==query_ids[0]]['relevance_label'].tolist())\n",
    "    ys_train_final = []\n",
    "    ys_train_final.append(ys_train)\n",
    "    for i in range(len(query_ids)):\n",
    "        if i == 0:\n",
    "            continue\n",
    "\n",
    "        y_new = np.array(x[x['query_id']==query_ids[i]]['relevance_label'].tolist())\n",
    "        ys_train_final.append(y_new)\n",
    "    \n",
    "\n",
    "    ys_train = torch.tensor(ys_train_final,dtype=torch.float32)\n",
    "    \n",
    "    X = np.array(x[x['query_id']==query_ids[0]].iloc[:,2:])\n",
    "    x_train_final = []\n",
    "    x_train_final.append(X)\n",
    "    for i in range(len(query_ids)):\n",
    "        if i == 0:\n",
    "            continue\n",
    "\n",
    "        x_new = np.array(x[x['query_id']==query_ids[i]].iloc[:,2:])\n",
    "        x_train_final.append(x_new)\n",
    "    \n",
    "\n",
    "    X_train = torch.tensor(np.array(x_train_final),dtype=torch.float32)\n",
    "    \n",
    "    return X_train,ys_train\n",
    "    "
   ]
  },
  {
   "cell_type": "code",
   "execution_count": 27,
   "id": "2552b0ca",
   "metadata": {},
   "outputs": [],
   "source": [
    "def dcg(scores):\n",
    "    scores = np.array(scores,dtype = float)\n",
    "    num = 2**scores-1\n",
    "    for i in range(len(num)):\n",
    "        num[i] /= np.log2(i+2)\n",
    "    return np.sum(num)\n",
    "\n",
    "\n",
    "def ndcg_k(scores, k):\n",
    "    top_k = scores[:k]\n",
    "    ideal_top_k = sorted(scores)[::-1][:k]\n",
    "    ndcg = dcg(top_k)\n",
    "    indcg = dcg(ideal_top_k)\n",
    "    return ndcg/indcg"
   ]
  },
  {
   "cell_type": "code",
   "execution_count": 28,
   "id": "bd493fab",
   "metadata": {},
   "outputs": [],
   "source": [
    "X_train,ys_train = clean_data(df)"
   ]
  },
  {
   "cell_type": "code",
   "execution_count": null,
   "id": "4cfd73b8",
   "metadata": {},
   "outputs": [],
   "source": [
    "class ListNet(nn.Module):\n",
    "    def __init__(self, input_dim, hidden_dim, hidden_dim2, output_dim):\n",
    "        super(ListNet, self).__init__()\n",
    "        self.fc1 = nn.Linear(input_dim, hidden_dim)\n",
    "        self.relu1 = nn.ReLU()\n",
    "        self.fc2 = nn.Linear(hidden_dim,hidden_dim2)\n",
    "        self.relu2 = nn.ReLU()\n",
    "        self.fc3 = nn.Linear(hidden_dim2, output_dim)\n",
    "\n",
    "    def forward(self, x):\n",
    "        x = self.fc1(x)\n",
    "        x = self.relu1(x)\n",
    "        x = self.fc2(x)\n",
    "        x = self.relu2(x)\n",
    "        x = self.fc3(x)\n",
    "        return x\n",
    "\n",
    "def KL_div(p, q):\n",
    "    return (p * torch.log(p / q)).sum()"
   ]
  },
  {
   "cell_type": "code",
   "execution_count": 29,
   "id": "9668ce66",
   "metadata": {
    "scrolled": true
   },
   "outputs": [
    {
     "name": "stderr",
     "output_type": "stream",
     "text": [
      "C:\\Users\\chana\\AppData\\Local\\Temp\\ipykernel_12276\\4087986288.py:38: UserWarning: To copy construct from a tensor, it is recommended to use sourceTensor.clone().detach() or sourceTensor.clone().detach().requires_grad_(True), rather than torch.tensor(sourceTensor).\n",
      "  Y = torch.tensor(ys_train[q].reshape(50),dtype = torch.float64)\n",
      "C:\\Users\\chana\\AppData\\Local\\Temp\\ipykernel_12276\\2468370219.py:14: RuntimeWarning: invalid value encountered in double_scalars\n",
      "  return ndcg/indcg\n"
     ]
    },
    {
     "name": "stdout",
     "output_type": "stream",
     "text": [
      "Time: 1.7903470993041992\n"
     ]
    }
   ],
   "source": [
    "t0 = time.time()\n",
    "\n",
    "input_dim = 136\n",
    "hidden_dim = 512\n",
    "hidden_dim2 = 256\n",
    "output_dim = 1\n",
    "learning_rate = 0.01\n",
    "num_epochs = 1\n",
    "\n",
    "model = ListNet(input_dim, hidden_dim,hidden_dim2, output_dim)\n",
    "optimizer = optim.Adam(model.parameters(), lr=learning_rate)\n",
    "ndcg_regret = []\n",
    "\n",
    "\n",
    "for q in range(X_train.shape[0]):\n",
    "    X = X_train[q]\n",
    "    Y = torch.tensor(ys_train[q].reshape(50),dtype = torch.float64)\n",
    "    for epoch in range(num_epochs):\n",
    "        optimizer.zero_grad()\n",
    "        output = model(X)\n",
    "        output = nn.functional.softmax(output, dim=0)\n",
    "        \n",
    "        output_tmp = np.array(output.detach().numpy())\n",
    "        output_tmp = output_tmp.reshape(50)\n",
    "        Y = Y.reshape(50,1)\n",
    "        Y_tmp = np.array(Y)\n",
    "        rank_pred = np.argsort(output_tmp)[::-1]\n",
    "        rank_score = Y_tmp[rank_pred]\n",
    "        ndcg = ndcg_k(rank_score, 10)\n",
    "        ndcg_regret.append(ndcg)\n",
    "        target = nn.functional.softmax(Y,dim=0)\n",
    "        loss = KL_div(output, target).float()\n",
    "        loss.backward()\n",
    "        optimizer.step()\n",
    "\n",
    "t1 = time.time()\n",
    "\n",
    "print('Time:', t1-t0)\n",
    "                        "
   ]
  },
  {
   "cell_type": "code",
   "execution_count": 30,
   "id": "8cb7ac76",
   "metadata": {},
   "outputs": [
    {
     "data": {
      "text/plain": [
       "0.3894755466751973"
      ]
     },
     "execution_count": 30,
     "metadata": {},
     "output_type": "execute_result"
    }
   ],
   "source": [
    "np.nanmean(ndcg_regret)"
   ]
  },
  {
   "cell_type": "code",
   "execution_count": 31,
   "id": "da816ddc",
   "metadata": {},
   "outputs": [
    {
     "name": "stderr",
     "output_type": "stream",
     "text": [
      "C:\\Users\\chana\\AppData\\Local\\Temp\\ipykernel_12276\\2468370219.py:14: RuntimeWarning: invalid value encountered in double_scalars\n",
      "  return ndcg/indcg\n"
     ]
    }
   ],
   "source": [
    "n = X_train.shape[0]\n",
    "ndcg_list = []\n",
    "max_ndcg = 0\n",
    "for i in range(n):\n",
    "    output = model(X_train[i])\n",
    "    output = nn.functional.softmax(output,dim = 0)\n",
    "    output = np.array(output.detach().numpy())\n",
    "    output = output.reshape(50)\n",
    "\n",
    "    Y = np.array(ys_train[i].reshape(50))\n",
    "    \n",
    "    rank_pred = np.argsort(output)[::-1]\n",
    "    rank_score = Y[rank_pred]\n",
    "    ndcg = ndcg_k(rank_score, 10)\n",
    "    ndcg_list.append(ndcg)\n",
    "    if ndcg > max_ndcg:\n",
    "        max_ndcg = ndcg\n",
    "    "
   ]
  },
  {
   "cell_type": "code",
   "execution_count": 32,
   "id": "7ad9da45",
   "metadata": {},
   "outputs": [
    {
     "data": {
      "text/plain": [
       "0.41082175106395435"
      ]
     },
     "execution_count": 32,
     "metadata": {},
     "output_type": "execute_result"
    }
   ],
   "source": [
    "np.nanmean(ndcg_list)"
   ]
  },
  {
   "cell_type": "code",
   "execution_count": 9,
   "id": "9ec25bcd",
   "metadata": {},
   "outputs": [],
   "source": [
    "idx = 181\n",
    "output = model(X_train[idx])\n",
    "output = nn.functional.softmax(output,dim = 0)\n",
    "output = np.array(output.detach().numpy())\n",
    "output = output.reshape(50)\n",
    "\n",
    "Y = np.array(ys_train[idx].reshape(50))"
   ]
  },
  {
   "cell_type": "code",
   "execution_count": 12,
   "id": "e0f81a5e",
   "metadata": {},
   "outputs": [],
   "source": [
    "rank_pred = np.argsort(output)[::-1]\n",
    "rank_score = Y[rank_pred]"
   ]
  },
  {
   "cell_type": "code",
   "execution_count": 16,
   "id": "6ea76b82",
   "metadata": {},
   "outputs": [
    {
     "data": {
      "text/plain": [
       "0.9740816258588203"
      ]
     },
     "execution_count": 16,
     "metadata": {},
     "output_type": "execute_result"
    }
   ],
   "source": [
    "ndcg_k(rank_score,10)"
   ]
  },
  {
   "cell_type": "code",
   "execution_count": 17,
   "id": "20f791b1",
   "metadata": {},
   "outputs": [],
   "source": [
    "X_val, ys_val = clean_data(df_val)"
   ]
  },
  {
   "cell_type": "code",
   "execution_count": 18,
   "id": "9c51fa91",
   "metadata": {},
   "outputs": [
    {
     "name": "stdout",
     "output_type": "stream",
     "text": [
      "0\n",
      "1\n",
      "3\n",
      "5\n",
      "10\n",
      "16\n",
      "23\n",
      "65\n"
     ]
    }
   ],
   "source": [
    "n = X_val.shape[0]\n",
    "ndcg_list = []\n",
    "max_ndcg = 0\n",
    "for i in range(n):\n",
    "    output = model(X_val[i])\n",
    "    output = nn.functional.softmax(output,dim = 0)\n",
    "    output = np.array(output.detach().numpy())\n",
    "    output = output.reshape(50)\n",
    "\n",
    "    Y = np.array(ys_val[i].reshape(50))\n",
    "    \n",
    "    rank_pred = np.argsort(output)[::-1]\n",
    "    rank_score = Y[rank_pred]\n",
    "    ndcg_val = ndcg_k(rank_score, 10)\n",
    "    ndcg_list.append(ndcg_val)\n",
    "    if ndcg_val > max_ndcg:\n",
    "        max_ndcg = ndcg_val\n",
    "    "
   ]
  },
  {
   "cell_type": "code",
   "execution_count": 19,
   "id": "0908a474",
   "metadata": {},
   "outputs": [
    {
     "data": {
      "text/plain": [
       "0.4316787742719746"
      ]
     },
     "execution_count": 19,
     "metadata": {},
     "output_type": "execute_result"
    }
   ],
   "source": [
    "np.nanmean(ndcg_list)"
   ]
  },
  {
   "cell_type": "code",
   "execution_count": null,
   "id": "41e58063",
   "metadata": {},
   "outputs": [],
   "source": []
  }
 ],
 "metadata": {
  "kernelspec": {
   "display_name": "Python 3 (ipykernel)",
   "language": "python",
   "name": "python3"
  },
  "language_info": {
   "codemirror_mode": {
    "name": "ipython",
    "version": 3
   },
   "file_extension": ".py",
   "mimetype": "text/x-python",
   "name": "python",
   "nbconvert_exporter": "python",
   "pygments_lexer": "ipython3",
   "version": "3.9.12"
  }
 },
 "nbformat": 4,
 "nbformat_minor": 5
}
